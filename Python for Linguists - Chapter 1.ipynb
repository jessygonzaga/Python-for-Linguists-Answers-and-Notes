{
 "cells": [
  {
   "cell_type": "code",
   "execution_count": 6,
   "id": "4d51cdea",
   "metadata": {},
   "outputs": [],
   "source": [
    "#Mathematical Operators"
   ]
  },
  {
   "cell_type": "code",
   "execution_count": 7,
   "id": "28332609",
   "metadata": {},
   "outputs": [
    {
     "data": {
      "text/plain": [
       "28"
      ]
     },
     "execution_count": 7,
     "metadata": {},
     "output_type": "execute_result"
    }
   ],
   "source": [
    "4 * 7"
   ]
  },
  {
   "cell_type": "code",
   "execution_count": 2,
   "id": "3f79f775",
   "metadata": {},
   "outputs": [
    {
     "data": {
      "text/plain": [
       "5.9"
      ]
     },
     "execution_count": 2,
     "metadata": {},
     "output_type": "execute_result"
    }
   ],
   "source": [
    "3 + 2.9\n"
   ]
  },
  {
   "cell_type": "code",
   "execution_count": 8,
   "id": "d2595872",
   "metadata": {},
   "outputs": [
    {
     "data": {
      "text/plain": [
       "0.0013717421124828531"
      ]
     },
     "execution_count": 8,
     "metadata": {},
     "output_type": "execute_result"
    }
   ],
   "source": [
    "9**-3\n",
    "#It gives the exponent"
   ]
  },
  {
   "cell_type": "code",
   "execution_count": 4,
   "id": "67037551",
   "metadata": {},
   "outputs": [
    {
     "data": {
      "text/plain": [
       "2"
      ]
     },
     "execution_count": 4,
     "metadata": {},
     "output_type": "execute_result"
    }
   ],
   "source": [
    "7 - 5"
   ]
  },
  {
   "cell_type": "code",
   "execution_count": null,
   "id": "d1a8381f",
   "metadata": {},
   "outputs": [],
   "source": [
    "#Using Mathematical Operators for strings. For +, it concatenates. For *, it repeats it n number of times."
   ]
  },
  {
   "cell_type": "code",
   "execution_count": 2,
   "id": "a58d7ff0",
   "metadata": {},
   "outputs": [
    {
     "data": {
      "text/plain": [
       "'phonology'"
      ]
     },
     "execution_count": 2,
     "metadata": {},
     "output_type": "execute_result"
    }
   ],
   "source": [
    "print ('phon' + 'ology')"
   ]
  },
  {
   "cell_type": "code",
   "execution_count": 4,
   "id": "460a555a",
   "metadata": {},
   "outputs": [
    {
     "name": "stdout",
     "output_type": "stream",
     "text": [
      "phonphonphonphonphonphon\n"
     ]
    }
   ],
   "source": [
    "print('phon'*6)"
   ]
  },
  {
   "cell_type": "code",
   "execution_count": null,
   "id": "20f96e46",
   "metadata": {},
   "outputs": [],
   "source": [
    "#the len() function tells you the number of characters in a string"
   ]
  },
  {
   "cell_type": "code",
   "execution_count": 5,
   "id": "851cc2ea",
   "metadata": {},
   "outputs": [
    {
     "data": {
      "text/plain": [
       "9"
      ]
     },
     "execution_count": 5,
     "metadata": {},
     "output_type": "execute_result"
    }
   ],
   "source": [
    "len('phonetics')"
   ]
  },
  {
   "cell_type": "code",
   "execution_count": null,
   "id": "c420ca54",
   "metadata": {},
   "outputs": [],
   "source": [
    "#the type () function tells you what type the object applies to"
   ]
  },
  {
   "cell_type": "code",
   "execution_count": 6,
   "id": "9bc93ab7",
   "metadata": {},
   "outputs": [
    {
     "data": {
      "text/plain": [
       "int"
      ]
     },
     "execution_count": 6,
     "metadata": {},
     "output_type": "execute_result"
    }
   ],
   "source": [
    "type (3)"
   ]
  },
  {
   "cell_type": "code",
   "execution_count": 7,
   "id": "097dd503",
   "metadata": {},
   "outputs": [
    {
     "data": {
      "text/plain": [
       "float"
      ]
     },
     "execution_count": 7,
     "metadata": {},
     "output_type": "execute_result"
    }
   ],
   "source": [
    "type (1.2)"
   ]
  },
  {
   "cell_type": "code",
   "execution_count": 8,
   "id": "e9270551",
   "metadata": {},
   "outputs": [
    {
     "data": {
      "text/plain": [
       "str"
      ]
     },
     "execution_count": 8,
     "metadata": {},
     "output_type": "execute_result"
    }
   ],
   "source": [
    "type ('jessy')"
   ]
  },
  {
   "cell_type": "code",
   "execution_count": 10,
   "id": "164207e6",
   "metadata": {},
   "outputs": [],
   "source": [
    "#If we put numbers and quotes, it doesn't get added, it is concatenated"
   ]
  },
  {
   "cell_type": "code",
   "execution_count": 1,
   "id": "8fc0399d",
   "metadata": {},
   "outputs": [
    {
     "data": {
      "text/plain": [
       "'78'"
      ]
     },
     "execution_count": 1,
     "metadata": {},
     "output_type": "execute_result"
    }
   ],
   "source": [
    "'7' + '8'"
   ]
  },
  {
   "cell_type": "code",
   "execution_count": 3,
   "id": "e28607d6",
   "metadata": {},
   "outputs": [
    {
     "data": {
      "text/plain": [
       "'hazel jessy'"
      ]
     },
     "execution_count": 3,
     "metadata": {},
     "output_type": "execute_result"
    }
   ],
   "source": [
    "'hazel ' + 'jessy'"
   ]
  },
  {
   "cell_type": "code",
   "execution_count": null,
   "id": "b9de116d",
   "metadata": {},
   "outputs": [],
   "source": [
    "#there are functions for converting back and forth between character"
   ]
  },
  {
   "cell_type": "code",
   "execution_count": 4,
   "id": "c8adeaa1",
   "metadata": {},
   "outputs": [
    {
     "data": {
      "text/plain": [
       "7"
      ]
     },
     "execution_count": 4,
     "metadata": {},
     "output_type": "execute_result"
    }
   ],
   "source": [
    "int ('7')"
   ]
  },
  {
   "cell_type": "code",
   "execution_count": 5,
   "id": "f1b099a2",
   "metadata": {},
   "outputs": [
    {
     "data": {
      "text/plain": [
       "3.4"
      ]
     },
     "execution_count": 5,
     "metadata": {},
     "output_type": "execute_result"
    }
   ],
   "source": [
    "float('3.4')"
   ]
  },
  {
   "cell_type": "code",
   "execution_count": 6,
   "id": "98b9f8be",
   "metadata": {},
   "outputs": [
    {
     "data": {
      "text/plain": [
       "'7'"
      ]
     },
     "execution_count": 6,
     "metadata": {},
     "output_type": "execute_result"
    }
   ],
   "source": [
    "str(7)"
   ]
  },
  {
   "cell_type": "code",
   "execution_count": null,
   "id": "fa6c180c",
   "metadata": {},
   "outputs": [],
   "source": [
    "#What are methods? Methods are not the same as functions. They are at the end"
   ]
  },
  {
   "cell_type": "code",
   "execution_count": null,
   "id": "8d2d0075",
   "metadata": {},
   "outputs": [],
   "source": [
    "#Upper and lower Method: to transform to upper or lower case"
   ]
  },
  {
   "cell_type": "code",
   "execution_count": 7,
   "id": "34f213be",
   "metadata": {},
   "outputs": [
    {
     "data": {
      "text/plain": [
       "'THIS IS NOT A PIPE'"
      ]
     },
     "execution_count": 7,
     "metadata": {},
     "output_type": "execute_result"
    }
   ],
   "source": [
    "'this is not a pipe'.upper()"
   ]
  },
  {
   "cell_type": "code",
   "execution_count": 8,
   "id": "66565c5c",
   "metadata": {},
   "outputs": [
    {
     "data": {
      "text/plain": [
       "'this is not a pipe'"
      ]
     },
     "execution_count": 8,
     "metadata": {},
     "output_type": "execute_result"
    }
   ],
   "source": [
    "'THIS IS NOT A PIPE'.lower()"
   ]
  },
  {
   "cell_type": "code",
   "execution_count": null,
   "id": "0ea0f559",
   "metadata": {},
   "outputs": [],
   "source": [
    "#Count Method: Counts the number of a specific character in a string"
   ]
  },
  {
   "cell_type": "code",
   "execution_count": 9,
   "id": "2c541227",
   "metadata": {},
   "outputs": [
    {
     "data": {
      "text/plain": [
       "1"
      ]
     },
     "execution_count": 9,
     "metadata": {},
     "output_type": "execute_result"
    }
   ],
   "source": [
    "'The quick brown fox jumps over the lazy dog'.count('l')"
   ]
  },
  {
   "cell_type": "code",
   "execution_count": 15,
   "id": "7e62a3a2",
   "metadata": {},
   "outputs": [
    {
     "data": {
      "text/plain": [
       "5"
      ]
     },
     "execution_count": 15,
     "metadata": {},
     "output_type": "execute_result"
    }
   ],
   "source": [
    "'Dumb dumb dumb dumb dumb dumb'.count('dumb')"
   ]
  },
  {
   "cell_type": "code",
   "execution_count": null,
   "id": "0cf32376",
   "metadata": {},
   "outputs": [],
   "source": [
    "#For counting the letters, len() or 'string'.count('a')"
   ]
  },
  {
   "cell_type": "code",
   "execution_count": null,
   "id": "8c253b5b",
   "metadata": {},
   "outputs": [],
   "source": [
    "#EXERCISES FOR CHAPTER 1"
   ]
  },
  {
   "cell_type": "code",
   "execution_count": null,
   "id": "ce650362",
   "metadata": {},
   "outputs": [],
   "source": [
    "#1.1 Command that print out your first name, the number of characters\n",
    "#your last name, the number of characters in that name, and then\n",
    "#concatenate and print the two names (with a space)"
   ]
  },
  {
   "cell_type": "code",
   "execution_count": 16,
   "id": "bf450ebc",
   "metadata": {},
   "outputs": [
    {
     "name": "stdout",
     "output_type": "stream",
     "text": [
      "jessy\n"
     ]
    }
   ],
   "source": [
    "print('jessy')"
   ]
  },
  {
   "cell_type": "code",
   "execution_count": 17,
   "id": "9f750730",
   "metadata": {},
   "outputs": [
    {
     "data": {
      "text/plain": [
       "5"
      ]
     },
     "execution_count": 17,
     "metadata": {},
     "output_type": "execute_result"
    }
   ],
   "source": [
    "len('jessy')"
   ]
  },
  {
   "cell_type": "code",
   "execution_count": 18,
   "id": "f6cd2a78",
   "metadata": {},
   "outputs": [
    {
     "name": "stdout",
     "output_type": "stream",
     "text": [
      "gonzaga\n"
     ]
    }
   ],
   "source": [
    "print('gonzaga')"
   ]
  },
  {
   "cell_type": "code",
   "execution_count": 20,
   "id": "02f4d7bf",
   "metadata": {},
   "outputs": [
    {
     "data": {
      "text/plain": [
       "7"
      ]
     },
     "execution_count": 20,
     "metadata": {},
     "output_type": "execute_result"
    }
   ],
   "source": [
    "len('gonzaga')"
   ]
  },
  {
   "cell_type": "code",
   "execution_count": 21,
   "id": "c643dc25",
   "metadata": {},
   "outputs": [
    {
     "name": "stdout",
     "output_type": "stream",
     "text": [
      "jessy gonzaga\n"
     ]
    }
   ],
   "source": [
    "print('jessy' + ' gonzaga')"
   ]
  },
  {
   "cell_type": "code",
   "execution_count": null,
   "id": "02df3b12",
   "metadata": {},
   "outputs": [],
   "source": [
    "#1.2 write a line of code that will calculate how many times\n",
    "#the string 'at' occurs in this sentence"
   ]
  },
  {
   "cell_type": "code",
   "execution_count": 23,
   "id": "dfa8659d",
   "metadata": {},
   "outputs": [
    {
     "data": {
      "text/plain": [
       "1"
      ]
     },
     "execution_count": 23,
     "metadata": {},
     "output_type": "execute_result"
    }
   ],
   "source": [
    "'Write a line of code that will calculate how many times the string at occurs in this sentence'.count(' at ')"
   ]
  },
  {
   "cell_type": "code",
   "execution_count": null,
   "id": "bf8381b8",
   "metadata": {},
   "outputs": [],
   "source": [
    "#1.3 What's the difference between these?"
   ]
  },
  {
   "cell_type": "code",
   "execution_count": 26,
   "id": "dd2ec582",
   "metadata": {},
   "outputs": [
    {
     "data": {
      "text/plain": [
       "'this is mike'"
      ]
     },
     "execution_count": 26,
     "metadata": {},
     "output_type": "execute_result"
    }
   ],
   "source": [
    "#lower Case \n",
    "'This is Mike'.upper().lower()"
   ]
  },
  {
   "cell_type": "code",
   "execution_count": 29,
   "id": "8257b038",
   "metadata": {},
   "outputs": [
    {
     "data": {
      "text/plain": [
       "'THIS IS MIKE'"
      ]
     },
     "execution_count": 29,
     "metadata": {},
     "output_type": "execute_result"
    }
   ],
   "source": [
    "#Upper Case  \n",
    "'This is Mike'.lower().upper()"
   ]
  },
  {
   "cell_type": "code",
   "execution_count": null,
   "id": "96f10d2f",
   "metadata": {},
   "outputs": [],
   "source": [
    "#1.4 Why does upper('This is a at') not work?"
   ]
  },
  {
   "cell_type": "code",
   "execution_count": 30,
   "id": "339dbd1d",
   "metadata": {},
   "outputs": [
    {
     "ename": "NameError",
     "evalue": "name 'upper' is not defined",
     "output_type": "error",
     "traceback": [
      "\u001b[1;31m---------------------------------------------------------------------------\u001b[0m",
      "\u001b[1;31mNameError\u001b[0m                                 Traceback (most recent call last)",
      "\u001b[1;32m~\\AppData\\Local\\Temp/ipykernel_10788/2543481822.py\u001b[0m in \u001b[0;36m<module>\u001b[1;34m\u001b[0m\n\u001b[1;32m----> 1\u001b[1;33m \u001b[0mupper\u001b[0m\u001b[1;33m(\u001b[0m\u001b[1;34m'This is a at'\u001b[0m\u001b[1;33m)\u001b[0m\u001b[1;33m\u001b[0m\u001b[1;33m\u001b[0m\u001b[0m\n\u001b[0m",
      "\u001b[1;31mNameError\u001b[0m: name 'upper' is not defined"
     ]
    }
   ],
   "source": [
    "upper('This is a at')"
   ]
  },
  {
   "cell_type": "code",
   "execution_count": null,
   "id": "8db12e4f",
   "metadata": {},
   "outputs": [],
   "source": [
    "#It does not work because uppeer is not a function. It is a method. It should be at the end of the string"
   ]
  },
  {
   "cell_type": "code",
   "execution_count": null,
   "id": "9388ce92",
   "metadata": {},
   "outputs": [],
   "source": [
    "#1.5 What does help(help) do?\n",
    "#It starts an interactive help session. You can put something inside"
   ]
  },
  {
   "cell_type": "code",
   "execution_count": null,
   "id": "0f5bb856",
   "metadata": {},
   "outputs": [],
   "source": [
    "#1.6 We used the mathematical operator **. What does it do?\n",
    "#It returns or gives the exponent of the number raised to the next n"
   ]
  },
  {
   "cell_type": "code",
   "execution_count": 31,
   "id": "ab242ab5",
   "metadata": {},
   "outputs": [
    {
     "data": {
      "text/plain": [
       "16"
      ]
     },
     "execution_count": 31,
     "metadata": {},
     "output_type": "execute_result"
    }
   ],
   "source": [
    "4**2"
   ]
  },
  {
   "cell_type": "code",
   "execution_count": 32,
   "id": "09a0a290",
   "metadata": {},
   "outputs": [
    {
     "data": {
      "text/plain": [
       "0.5"
      ]
     },
     "execution_count": 32,
     "metadata": {},
     "output_type": "execute_result"
    }
   ],
   "source": [
    "2**-1"
   ]
  },
  {
   "cell_type": "code",
   "execution_count": 33,
   "id": "2e55f385",
   "metadata": {},
   "outputs": [
    {
     "data": {
      "text/plain": [
       "8"
      ]
     },
     "execution_count": 33,
     "metadata": {},
     "output_type": "execute_result"
    }
   ],
   "source": [
    "2**3"
   ]
  },
  {
   "cell_type": "code",
   "execution_count": null,
   "id": "38b8a0ac",
   "metadata": {},
   "outputs": [],
   "source": [
    "#1.7 In Math, 6 + 2 and 2 + 6 mean the same thing. \n",
    "#They can be used for strings too. What happens if they are reversed? \n",
    "#Do they mean the same thing?"
   ]
  },
  {
   "cell_type": "code",
   "execution_count": null,
   "id": "3752e34b",
   "metadata": {},
   "outputs": [],
   "source": [
    "#No, they don't mean the same thing."
   ]
  },
  {
   "cell_type": "code",
   "execution_count": 38,
   "id": "d724a397",
   "metadata": {},
   "outputs": [
    {
     "name": "stdout",
     "output_type": "stream",
     "text": [
      "cupcake\n",
      "cakecup\n"
     ]
    }
   ],
   "source": [
    "print('cup' + 'cake')\n",
    "print('cake' + 'cup')"
   ]
  },
  {
   "cell_type": "code",
   "execution_count": null,
   "id": "a34f285b",
   "metadata": {},
   "outputs": [],
   "source": [
    "#1.8 Use the help () function to find out about the round () command"
   ]
  },
  {
   "cell_type": "code",
   "execution_count": 39,
   "id": "01c26fe6",
   "metadata": {},
   "outputs": [
    {
     "name": "stdout",
     "output_type": "stream",
     "text": [
      "Help on built-in function round in module builtins:\n",
      "\n",
      "round(number, ndigits=None)\n",
      "    Round a number to a given precision in decimal digits.\n",
      "    \n",
      "    The return value is an integer if ndigits is omitted or None.  Otherwise\n",
      "    the return value has the same type as the number.  ndigits may be negative.\n",
      "\n"
     ]
    }
   ],
   "source": [
    "help(round)"
   ]
  },
  {
   "cell_type": "code",
   "execution_count": 40,
   "id": "ca7abeba",
   "metadata": {},
   "outputs": [
    {
     "data": {
      "text/plain": [
       "4"
      ]
     },
     "execution_count": 40,
     "metadata": {},
     "output_type": "execute_result"
    }
   ],
   "source": [
    "round (5-1)"
   ]
  },
  {
   "cell_type": "code",
   "execution_count": 41,
   "id": "d3166e9c",
   "metadata": {},
   "outputs": [
    {
     "data": {
      "text/plain": [
       "4"
      ]
     },
     "execution_count": 41,
     "metadata": {},
     "output_type": "execute_result"
    }
   ],
   "source": [
    "round(5-0.5)"
   ]
  },
  {
   "cell_type": "code",
   "execution_count": null,
   "id": "61ce54ec",
   "metadata": {},
   "outputs": [],
   "source": [
    "#The round function rounds up the result to the nearest integer"
   ]
  },
  {
   "cell_type": "code",
   "execution_count": null,
   "id": "2e0ab9aa",
   "metadata": {},
   "outputs": [],
   "source": [
    "#1.9 For each of the following, explain whether it's true or false and why"
   ]
  },
  {
   "cell_type": "code",
   "execution_count": 42,
   "id": "20091df6",
   "metadata": {},
   "outputs": [
    {
     "data": {
      "text/plain": [
       "True"
      ]
     },
     "execution_count": 42,
     "metadata": {},
     "output_type": "execute_result"
    }
   ],
   "source": [
    "'hat' == \"hat\""
   ]
  },
  {
   "cell_type": "code",
   "execution_count": null,
   "id": "516f45bb",
   "metadata": {},
   "outputs": [],
   "source": [
    "#It is true because '' and \"\" are the same on Python"
   ]
  },
  {
   "cell_type": "code",
   "execution_count": 43,
   "id": "a66a2a5a",
   "metadata": {},
   "outputs": [
    {
     "data": {
      "text/plain": [
       "False"
      ]
     },
     "execution_count": 43,
     "metadata": {},
     "output_type": "execute_result"
    }
   ],
   "source": [
    "1/3 == 0.33"
   ]
  },
  {
   "cell_type": "code",
   "execution_count": null,
   "id": "9d6fa06c",
   "metadata": {},
   "outputs": [],
   "source": [
    "#False because 1/3 is supposed to be 0.33... up to infinity. It is a recurring 3"
   ]
  },
  {
   "cell_type": "code",
   "execution_count": 44,
   "id": "5c84d29b",
   "metadata": {},
   "outputs": [
    {
     "data": {
      "text/plain": [
       "False"
      ]
     },
     "execution_count": 44,
     "metadata": {},
     "output_type": "execute_result"
    }
   ],
   "source": [
    "'three' > 'two'"
   ]
  },
  {
   "cell_type": "code",
   "execution_count": null,
   "id": "6e6810c0",
   "metadata": {},
   "outputs": [],
   "source": [
    "#False because they are strings"
   ]
  }
 ],
 "metadata": {
  "kernelspec": {
   "display_name": "Python 3 (ipykernel)",
   "language": "python",
   "name": "python3"
  },
  "language_info": {
   "codemirror_mode": {
    "name": "ipython",
    "version": 3
   },
   "file_extension": ".py",
   "mimetype": "text/x-python",
   "name": "python",
   "nbconvert_exporter": "python",
   "pygments_lexer": "ipython3",
   "version": "3.9.7"
  }
 },
 "nbformat": 4,
 "nbformat_minor": 5
}
