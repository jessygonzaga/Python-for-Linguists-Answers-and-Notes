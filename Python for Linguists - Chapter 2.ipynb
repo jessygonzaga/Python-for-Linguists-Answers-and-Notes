{
 "cells": [
  {
   "cell_type": "code",
   "execution_count": 2,
   "id": "4efca363",
   "metadata": {},
   "outputs": [],
   "source": [
    "#Variable Assignment or Variable Binding - When we store and recall any value in a variable. It is not the same as equality.\n",
    "#You put the name on the left, the variable on the right. Variable names mus begin with a letter or an underline. \n",
    "#Variable names are case sensitive and shouldn't contain reserved Python words."
   ]
  },
  {
   "cell_type": "code",
   "execution_count": null,
   "id": "f1c508fa",
   "metadata": {},
   "outputs": [],
   "source": [
    "#For equality, we use =="
   ]
  },
  {
   "cell_type": "code",
   "execution_count": 3,
   "id": "99adcf2d",
   "metadata": {},
   "outputs": [
    {
     "data": {
      "text/plain": [
       "True"
      ]
     },
     "execution_count": 3,
     "metadata": {},
     "output_type": "execute_result"
    }
   ],
   "source": [
    "2 + 2 == 4  "
   ]
  },
  {
   "cell_type": "code",
   "execution_count": 4,
   "id": "3bbd7a32",
   "metadata": {},
   "outputs": [
    {
     "data": {
      "text/plain": [
       "True"
      ]
     },
     "execution_count": 4,
     "metadata": {},
     "output_type": "execute_result"
    }
   ],
   "source": [
    "'hat'+'s' == 'hats' "
   ]
  },
  {
   "cell_type": "code",
   "execution_count": null,
   "id": "a1740bf3",
   "metadata": {},
   "outputs": [],
   "source": [
    "#We should always give our variables a name that reminds us what kind of value we are storing in the variable, variable names that remind you of variable content"
   ]
  },
  {
   "cell_type": "code",
   "execution_count": null,
   "id": "ad2d4c27",
   "metadata": {},
   "outputs": [],
   "source": [
    "#BASIC DATA TYPES"
   ]
  },
  {
   "cell_type": "code",
   "execution_count": 6,
   "id": "d77ef83f",
   "metadata": {},
   "outputs": [],
   "source": [
    "#1. NUMBERS\n",
    "#There are 3 types of numbers: ingteger, float or floating point, and complex.As linguists, we are only going to be using the first 2\n",
    "#The suffix for complex numbers is j or i\n",
    "#integer int 3 > to convert from string int('3')\n",
    "#float 7.2 > float('7.2')\n",
    "#complex 2+4j > complex('2+4j')"
   ]
  },
  {
   "cell_type": "code",
   "execution_count": 7,
   "id": "f79c80cd",
   "metadata": {},
   "outputs": [],
   "source": [
    "#2. BOOLEANS\n",
    "#Expressions that are true or false, two members: true and false\n",
    "#These can be manipulated with basic logical operators: and, or, and not\n",
    "#boolean type is bool\n",
    "#the operators are binary operators,always take two expressions"
   ]
  },
  {
   "cell_type": "code",
   "execution_count": null,
   "id": "e3dfea09",
   "metadata": {},
   "outputs": [],
   "source": [
    "#equality ==\n",
    "#inequality !=\n",
    "#follows alphabetically >\n",
    "#follows alphabeticaly or equal >=\n",
    "#precedes alphabetically <\n",
    "#precedes alphabetically or equal <="
   ]
  },
  {
   "cell_type": "code",
   "execution_count": 1,
   "id": "4cce4ad1",
   "metadata": {},
   "outputs": [
    {
     "data": {
      "text/plain": [
       "False"
      ]
     },
     "execution_count": 1,
     "metadata": {},
     "output_type": "execute_result"
    }
   ],
   "source": [
    "len('hat') > 7 - 2 == 3"
   ]
  },
  {
   "cell_type": "code",
   "execution_count": 3,
   "id": "5357a8f0",
   "metadata": {},
   "outputs": [
    {
     "data": {
      "text/plain": [
       "True"
      ]
     },
     "execution_count": 3,
     "metadata": {},
     "output_type": "execute_result"
    }
   ],
   "source": [
    "True and (8 == 4 + 4) and (True or False) "
   ]
  },
  {
   "cell_type": "code",
   "execution_count": null,
   "id": "b4718c3c",
   "metadata": {},
   "outputs": [],
   "source": [
    "#isinstance: we use this to test if some element or variable is of a particular type"
   ]
  },
  {
   "cell_type": "code",
   "execution_count": 4,
   "id": "7ef27afe",
   "metadata": {},
   "outputs": [
    {
     "data": {
      "text/plain": [
       "True"
      ]
     },
     "execution_count": 4,
     "metadata": {},
     "output_type": "execute_result"
    }
   ],
   "source": [
    "isinstance (3, int)"
   ]
  },
  {
   "cell_type": "code",
   "execution_count": 5,
   "id": "27d11a85",
   "metadata": {},
   "outputs": [
    {
     "data": {
      "text/plain": [
       "True"
      ]
     },
     "execution_count": 5,
     "metadata": {},
     "output_type": "execute_result"
    }
   ],
   "source": [
    "isinstance (3.0, float)"
   ]
  },
  {
   "cell_type": "code",
   "execution_count": 6,
   "id": "2d39fded",
   "metadata": {},
   "outputs": [
    {
     "data": {
      "text/plain": [
       "True"
      ]
     },
     "execution_count": 6,
     "metadata": {},
     "output_type": "execute_result"
    }
   ],
   "source": [
    "isinstance(True, bool)"
   ]
  },
  {
   "cell_type": "code",
   "execution_count": 7,
   "id": "d9955793",
   "metadata": {},
   "outputs": [
    {
     "data": {
      "text/plain": [
       "True"
      ]
     },
     "execution_count": 7,
     "metadata": {},
     "output_type": "execute_result"
    }
   ],
   "source": [
    "isinstance (3 + 3j, complex)"
   ]
  },
  {
   "cell_type": "code",
   "execution_count": 8,
   "id": "8106cdab",
   "metadata": {},
   "outputs": [
    {
     "data": {
      "text/plain": [
       "True"
      ]
     },
     "execution_count": 8,
     "metadata": {},
     "output_type": "execute_result"
    }
   ],
   "source": [
    "isinstance (3 == 4, bool)"
   ]
  },
  {
   "cell_type": "code",
   "execution_count": 9,
   "id": "2d57e6a9",
   "metadata": {},
   "outputs": [],
   "source": [
    "#3. STRINGS\n",
    "#This is the most important type for linguists because linguists are concerned with sounds, words, and entences which are represented by strings"
   ]
  },
  {
   "cell_type": "code",
   "execution_count": null,
   "id": "5074873f",
   "metadata": {},
   "outputs": [],
   "source": [
    "#Triple quoted strings: marked with 3 single or double quotes. \n",
    "#It's a convenient way to enter multiline strings"
   ]
  },
  {
   "cell_type": "code",
   "execution_count": 10,
   "id": "e6ed4714",
   "metadata": {},
   "outputs": [
    {
     "data": {
      "text/plain": [
       "'This is a string\\nthat continues on \\nmore than one line'"
      ]
     },
     "execution_count": 10,
     "metadata": {},
     "output_type": "execute_result"
    }
   ],
   "source": [
    "'''This is a string\n",
    "that continues on \n",
    "more than one line'''"
   ]
  },
  {
   "cell_type": "code",
   "execution_count": 11,
   "id": "61547bd5",
   "metadata": {},
   "outputs": [],
   "source": [
    "#\\n : representents a line break"
   ]
  },
  {
   "cell_type": "code",
   "execution_count": 12,
   "id": "2714ad76",
   "metadata": {},
   "outputs": [],
   "source": [
    "x = '''This is\n",
    "more than\n",
    "one line'''"
   ]
  },
  {
   "cell_type": "code",
   "execution_count": 13,
   "id": "0caac4ee",
   "metadata": {},
   "outputs": [
    {
     "name": "stdout",
     "output_type": "stream",
     "text": [
      "This is\n",
      "more than\n",
      "one line\n"
     ]
    }
   ],
   "source": [
    "print(x)"
   ]
  },
  {
   "cell_type": "code",
   "execution_count": 14,
   "id": "fc2eb69b",
   "metadata": {},
   "outputs": [],
   "source": [
    "y = 'this is \\n more than \\n one line'"
   ]
  },
  {
   "cell_type": "code",
   "execution_count": 15,
   "id": "429becf0",
   "metadata": {},
   "outputs": [
    {
     "name": "stdout",
     "output_type": "stream",
     "text": [
      "this is \n",
      " more than \n",
      " one line\n"
     ]
    }
   ],
   "source": [
    "print (y)"
   ]
  },
  {
   "cell_type": "code",
   "execution_count": null,
   "id": "a666cc2c",
   "metadata": {},
   "outputs": [],
   "source": [
    "# \\t : represents a tab"
   ]
  },
  {
   "cell_type": "code",
   "execution_count": 22,
   "id": "f606f0c4",
   "metadata": {},
   "outputs": [],
   "source": [
    "z = 'ang\\tbata\\tang\\tkumain\\tng\\tmangga\\t'"
   ]
  },
  {
   "cell_type": "code",
   "execution_count": 23,
   "id": "83c06d6d",
   "metadata": {},
   "outputs": [
    {
     "name": "stdout",
     "output_type": "stream",
     "text": [
      "ang\tbata\tang\tkumain\tng\tmangga\t\n"
     ]
    }
   ],
   "source": [
    "print(z)"
   ]
  },
  {
   "cell_type": "code",
   "execution_count": null,
   "id": "5472f3b7",
   "metadata": {},
   "outputs": [],
   "source": [
    "#if you want to type a \\, just do a double backlash \\\\"
   ]
  },
  {
   "cell_type": "code",
   "execution_count": 25,
   "id": "84193612",
   "metadata": {},
   "outputs": [
    {
     "name": "stdout",
     "output_type": "stream",
     "text": [
      "xyz\\nabc\n"
     ]
    }
   ],
   "source": [
    "print ('xyz\\\\nabc')"
   ]
  },
  {
   "cell_type": "code",
   "execution_count": 31,
   "id": "d394d93a",
   "metadata": {},
   "outputs": [],
   "source": [
    "# r'' raw string notation\n",
    "#If you have a string with a lot of backlashes, just use r'', and the backlashes will be considered a backlash"
   ]
  },
  {
   "cell_type": "code",
   "execution_count": 33,
   "id": "63a9a6cd",
   "metadata": {},
   "outputs": [],
   "source": [
    "p = r'abc\\nxyz'"
   ]
  },
  {
   "cell_type": "code",
   "execution_count": 34,
   "id": "3c0d229c",
   "metadata": {},
   "outputs": [
    {
     "name": "stdout",
     "output_type": "stream",
     "text": [
      "abc\\nxyz\n"
     ]
    }
   ],
   "source": [
    "print (p)"
   ]
  },
  {
   "cell_type": "code",
   "execution_count": 35,
   "id": "7aacf7e2",
   "metadata": {},
   "outputs": [],
   "source": [
    "#format () : it is a method\n",
    "#Basically, you put {} for slots and you use .format() to put words or fill those slots"
   ]
  },
  {
   "cell_type": "code",
   "execution_count": 41,
   "id": "544ef78e",
   "metadata": {},
   "outputs": [],
   "source": [
    "f = '{} Jessy'"
   ]
  },
  {
   "cell_type": "code",
   "execution_count": 43,
   "id": "28e4a1b5",
   "metadata": {},
   "outputs": [],
   "source": [
    "g = f.format('Hello')"
   ]
  },
  {
   "cell_type": "code",
   "execution_count": 44,
   "id": "8798bbcb",
   "metadata": {},
   "outputs": [
    {
     "name": "stdout",
     "output_type": "stream",
     "text": [
      "Hello Jessy\n"
     ]
    }
   ],
   "source": [
    "print (g)"
   ]
  },
  {
   "cell_type": "code",
   "execution_count": null,
   "id": "a381cfe4",
   "metadata": {},
   "outputs": [],
   "source": [
    "#The format method can take multiple arguments because a string can have multiple slots"
   ]
  },
  {
   "cell_type": "code",
   "execution_count": 45,
   "id": "1d9a70d8",
   "metadata": {},
   "outputs": [],
   "source": [
    "h = '{} Jessy. {}?'"
   ]
  },
  {
   "cell_type": "code",
   "execution_count": 51,
   "id": "471a89bc",
   "metadata": {},
   "outputs": [],
   "source": [
    "i = h.format('Kamusta', 'Okay ka lang ba')"
   ]
  },
  {
   "cell_type": "code",
   "execution_count": 52,
   "id": "40e497d6",
   "metadata": {},
   "outputs": [
    {
     "name": "stdout",
     "output_type": "stream",
     "text": [
      "Kamusta Jessy. Okay ka lang ba?\n"
     ]
    }
   ],
   "source": [
    "print(i)"
   ]
  },
  {
   "cell_type": "code",
   "execution_count": null,
   "id": "71926ebf",
   "metadata": {},
   "outputs": [],
   "source": [
    "#If a string has multiple slots, they can be numbered from 0. They are filled in that order: 0, 1, 2, 3"
   ]
  },
  {
   "cell_type": "code",
   "execution_count": 56,
   "id": "bb64f6ff",
   "metadata": {},
   "outputs": [],
   "source": [
    "j = 'one = {0}; two = {1}; three = {2}'\n"
   ]
  },
  {
   "cell_type": "code",
   "execution_count": 62,
   "id": "334f6534",
   "metadata": {},
   "outputs": [],
   "source": [
    "k = j.format('isa', 'dalawa', 'tatlo')"
   ]
  },
  {
   "cell_type": "code",
   "execution_count": 63,
   "id": "1cf8fbf1",
   "metadata": {},
   "outputs": [
    {
     "name": "stdout",
     "output_type": "stream",
     "text": [
      "one = isa; two = dalawa; three = tatlo\n"
     ]
    }
   ],
   "source": [
    "print (k)"
   ]
  },
  {
   "cell_type": "code",
   "execution_count": null,
   "id": "7cca1e01",
   "metadata": {},
   "outputs": [],
   "source": [
    "#If the argument supplied by format () is less than the space reserved, you indicate alignment to the left, rigth, center with <, >, and ^"
   ]
  },
  {
   "cell_type": "code",
   "execution_count": 81,
   "id": "890e581b",
   "metadata": {},
   "outputs": [],
   "source": [
    "# {:<10} left\n",
    "# {:>10} right\n",
    "# {:^10} middle"
   ]
  },
  {
   "cell_type": "code",
   "execution_count": 72,
   "id": "2b18011e",
   "metadata": {},
   "outputs": [],
   "source": [
    "l = '-{:<10}-'"
   ]
  },
  {
   "cell_type": "code",
   "execution_count": 75,
   "id": "28803039",
   "metadata": {},
   "outputs": [
    {
     "data": {
      "text/plain": [
       "'-one       -'"
      ]
     },
     "execution_count": 75,
     "metadata": {},
     "output_type": "execute_result"
    }
   ],
   "source": [
    "l.format ('one')"
   ]
  },
  {
   "cell_type": "code",
   "execution_count": 76,
   "id": "a99ab376",
   "metadata": {},
   "outputs": [],
   "source": [
    "m = '-{:>10}-'"
   ]
  },
  {
   "cell_type": "code",
   "execution_count": 78,
   "id": "187c8c7c",
   "metadata": {},
   "outputs": [
    {
     "data": {
      "text/plain": [
       "'-       two-'"
      ]
     },
     "execution_count": 78,
     "metadata": {},
     "output_type": "execute_result"
    }
   ],
   "source": [
    "m.format('two')"
   ]
  },
  {
   "cell_type": "code",
   "execution_count": 79,
   "id": "49b56539",
   "metadata": {},
   "outputs": [],
   "source": [
    "n = '-{:^10}-'"
   ]
  },
  {
   "cell_type": "code",
   "execution_count": 80,
   "id": "c3f00c03",
   "metadata": {},
   "outputs": [
    {
     "data": {
      "text/plain": [
       "'-  three   -'"
      ]
     },
     "execution_count": 80,
     "metadata": {},
     "output_type": "execute_result"
    }
   ],
   "source": [
    "n.format('three')"
   ]
  },
  {
   "cell_type": "code",
   "execution_count": null,
   "id": "355db49e",
   "metadata": {},
   "outputs": [],
   "source": [
    "#to extract a part of a string x[place]"
   ]
  },
  {
   "cell_type": "code",
   "execution_count": 1,
   "id": "f9cb8857",
   "metadata": {},
   "outputs": [],
   "source": [
    "o = 'happiness'"
   ]
  },
  {
   "cell_type": "code",
   "execution_count": 2,
   "id": "ab0be408",
   "metadata": {},
   "outputs": [
    {
     "data": {
      "text/plain": [
       "'p'"
      ]
     },
     "execution_count": 2,
     "metadata": {},
     "output_type": "execute_result"
    }
   ],
   "source": [
    "o[2]"
   ]
  },
  {
   "cell_type": "code",
   "execution_count": null,
   "id": "162a9b4e",
   "metadata": {},
   "outputs": [],
   "source": [
    "#extract a sequence of character o[2:4]\n",
    "#starts at the first item, and ends at the item before the second item"
   ]
  },
  {
   "cell_type": "code",
   "execution_count": 4,
   "id": "051a9016",
   "metadata": {},
   "outputs": [
    {
     "data": {
      "text/plain": [
       "'hap'"
      ]
     },
     "execution_count": 4,
     "metadata": {},
     "output_type": "execute_result"
    }
   ],
   "source": [
    "o[0:3]"
   ]
  },
  {
   "cell_type": "code",
   "execution_count": null,
   "id": "c8023f26",
   "metadata": {},
   "outputs": [],
   "source": [
    "#Thus x[n:n+1] = x[n] so if we have x[n:m] where m<n+1, it will be an empty string"
   ]
  },
  {
   "cell_type": "code",
   "execution_count": 5,
   "id": "3f5cd617",
   "metadata": {},
   "outputs": [
    {
     "data": {
      "text/plain": [
       "''"
      ]
     },
     "execution_count": 5,
     "metadata": {},
     "output_type": "execute_result"
    }
   ],
   "source": [
    "o[1:1]"
   ]
  },
  {
   "cell_type": "code",
   "execution_count": null,
   "id": "de7c132e",
   "metadata": {},
   "outputs": [],
   "source": [
    "#extract from start to present x[:2]"
   ]
  },
  {
   "cell_type": "code",
   "execution_count": 6,
   "id": "f7f25197",
   "metadata": {},
   "outputs": [
    {
     "data": {
      "text/plain": [
       "'ha'"
      ]
     },
     "execution_count": 6,
     "metadata": {},
     "output_type": "execute_result"
    }
   ],
   "source": [
    "o[:2]"
   ]
  },
  {
   "cell_type": "code",
   "execution_count": null,
   "id": "ebd709cf",
   "metadata": {},
   "outputs": [],
   "source": [
    "#extract from integer onwards"
   ]
  },
  {
   "cell_type": "code",
   "execution_count": 7,
   "id": "44c09a64",
   "metadata": {},
   "outputs": [
    {
     "data": {
      "text/plain": [
       "'ppiness'"
      ]
     },
     "execution_count": 7,
     "metadata": {},
     "output_type": "execute_result"
    }
   ],
   "source": [
    "o[2:]"
   ]
  },
  {
   "cell_type": "code",
   "execution_count": 8,
   "id": "05677b55",
   "metadata": {},
   "outputs": [],
   "source": [
    "#4. LISTS -a single structure that holds a sequence of elements of whatever type you wan. You can create a list by simply listing elements in square brackets"
   ]
  },
  {
   "cell_type": "code",
   "execution_count": 192,
   "id": "866ca586",
   "metadata": {},
   "outputs": [],
   "source": [
    "fruits = ['banana', 'apple', 'mango', 'peach']"
   ]
  },
  {
   "cell_type": "code",
   "execution_count": 193,
   "id": "6eb5f39c",
   "metadata": {},
   "outputs": [],
   "source": [
    "#we can use the len() for lists"
   ]
  },
  {
   "cell_type": "code",
   "execution_count": 194,
   "id": "5ac0a058",
   "metadata": {},
   "outputs": [
    {
     "data": {
      "text/plain": [
       "4"
      ]
     },
     "execution_count": 194,
     "metadata": {},
     "output_type": "execute_result"
    }
   ],
   "source": [
    "len(fruits)"
   ]
  },
  {
   "cell_type": "code",
   "execution_count": 195,
   "id": "33263b8f",
   "metadata": {},
   "outputs": [],
   "source": [
    "#we can also index into a list"
   ]
  },
  {
   "cell_type": "code",
   "execution_count": 196,
   "id": "5ce3e824",
   "metadata": {},
   "outputs": [
    {
     "data": {
      "text/plain": [
       "'apple'"
      ]
     },
     "execution_count": 196,
     "metadata": {},
     "output_type": "execute_result"
    }
   ],
   "source": [
    "fruits[1]"
   ]
  },
  {
   "cell_type": "code",
   "execution_count": 197,
   "id": "26517d30",
   "metadata": {},
   "outputs": [
    {
     "data": {
      "text/plain": [
       "['banana', 'apple']"
      ]
     },
     "execution_count": 197,
     "metadata": {},
     "output_type": "execute_result"
    }
   ],
   "source": [
    "fruits[:2]"
   ]
  },
  {
   "cell_type": "code",
   "execution_count": 198,
   "id": "5b33ba1f",
   "metadata": {},
   "outputs": [
    {
     "data": {
      "text/plain": [
       "['banana', 'apple', 'mango', 'peach']"
      ]
     },
     "execution_count": 198,
     "metadata": {},
     "output_type": "execute_result"
    }
   ],
   "source": [
    "fruits[0:4]"
   ]
  },
  {
   "cell_type": "code",
   "execution_count": 199,
   "id": "2051a87a",
   "metadata": {},
   "outputs": [],
   "source": [
    "#LIST METHOD 1: append () : adds an element at the end of the list"
   ]
  },
  {
   "cell_type": "code",
   "execution_count": 200,
   "id": "9e30ab6a",
   "metadata": {},
   "outputs": [],
   "source": [
    "fruits.append('grapes')"
   ]
  },
  {
   "cell_type": "code",
   "execution_count": 201,
   "id": "9ed8f698",
   "metadata": {},
   "outputs": [],
   "source": [
    "#lIST METHOD 2: pop () : removes an element at an indexed position"
   ]
  },
  {
   "cell_type": "code",
   "execution_count": 202,
   "id": "5b16c6b7",
   "metadata": {},
   "outputs": [
    {
     "data": {
      "text/plain": [
       "'apple'"
      ]
     },
     "execution_count": 202,
     "metadata": {},
     "output_type": "execute_result"
    }
   ],
   "source": [
    "fruits.pop(1)"
   ]
  },
  {
   "cell_type": "code",
   "execution_count": 204,
   "id": "ec8804b1",
   "metadata": {},
   "outputs": [
    {
     "data": {
      "text/plain": [
       "['banana', 'mango', 'peach', 'grapes']"
      ]
     },
     "execution_count": 204,
     "metadata": {},
     "output_type": "execute_result"
    }
   ],
   "source": [
    "fruits"
   ]
  },
  {
   "cell_type": "code",
   "execution_count": 206,
   "id": "48589138",
   "metadata": {},
   "outputs": [
    {
     "data": {
      "text/plain": [
       "'grapes'"
      ]
     },
     "execution_count": 206,
     "metadata": {},
     "output_type": "execute_result"
    }
   ],
   "source": [
    "fruits.pop(3)"
   ]
  },
  {
   "cell_type": "code",
   "execution_count": 207,
   "id": "1c60a52c",
   "metadata": {},
   "outputs": [
    {
     "data": {
      "text/plain": [
       "['banana', 'mango', 'peach']"
      ]
     },
     "execution_count": 207,
     "metadata": {},
     "output_type": "execute_result"
    }
   ],
   "source": [
    "fruits"
   ]
  },
  {
   "cell_type": "code",
   "execution_count": null,
   "id": "ba0b55fb",
   "metadata": {},
   "outputs": [],
   "source": [
    "#LIST METHOD 3 : .insert() the element is inserted before the index specified. 2 items  separated by a comma"
   ]
  },
  {
   "cell_type": "code",
   "execution_count": 47,
   "id": "7fffa0df",
   "metadata": {},
   "outputs": [],
   "source": [
    "fruits.insert(2,'orange')"
   ]
  },
  {
   "cell_type": "code",
   "execution_count": 49,
   "id": "e98e5349",
   "metadata": {},
   "outputs": [
    {
     "data": {
      "text/plain": [
       "['banana', 'mango', 'orange', 'oranges', 'peach', 'grapes']"
      ]
     },
     "execution_count": 49,
     "metadata": {},
     "output_type": "execute_result"
    }
   ],
   "source": [
    "fruits"
   ]
  },
  {
   "cell_type": "code",
   "execution_count": 50,
   "id": "dc7e1bf9",
   "metadata": {},
   "outputs": [
    {
     "data": {
      "text/plain": [
       "'oranges'"
      ]
     },
     "execution_count": 50,
     "metadata": {},
     "output_type": "execute_result"
    }
   ],
   "source": [
    "fruits.pop(3)"
   ]
  },
  {
   "cell_type": "code",
   "execution_count": 51,
   "id": "649e1ff9",
   "metadata": {},
   "outputs": [
    {
     "data": {
      "text/plain": [
       "['banana', 'mango', 'orange', 'peach', 'grapes']"
      ]
     },
     "execution_count": 51,
     "metadata": {},
     "output_type": "execute_result"
    }
   ],
   "source": [
    "fruits"
   ]
  },
  {
   "cell_type": "code",
   "execution_count": null,
   "id": "6f9f993d",
   "metadata": {},
   "outputs": [],
   "source": [
    "#LIST FUNCITION: range() : returns a range object from 0 to that argument"
   ]
  },
  {
   "cell_type": "code",
   "execution_count": 52,
   "id": "47c5121b",
   "metadata": {},
   "outputs": [],
   "source": [
    "q = range(25)"
   ]
  },
  {
   "cell_type": "code",
   "execution_count": 53,
   "id": "7385de72",
   "metadata": {},
   "outputs": [
    {
     "data": {
      "text/plain": [
       "[0,\n",
       " 1,\n",
       " 2,\n",
       " 3,\n",
       " 4,\n",
       " 5,\n",
       " 6,\n",
       " 7,\n",
       " 8,\n",
       " 9,\n",
       " 10,\n",
       " 11,\n",
       " 12,\n",
       " 13,\n",
       " 14,\n",
       " 15,\n",
       " 16,\n",
       " 17,\n",
       " 18,\n",
       " 19,\n",
       " 20,\n",
       " 21,\n",
       " 22,\n",
       " 23,\n",
       " 24]"
      ]
     },
     "execution_count": 53,
     "metadata": {},
     "output_type": "execute_result"
    }
   ],
   "source": [
    "list(q)"
   ]
  },
  {
   "cell_type": "code",
   "execution_count": null,
   "id": "4e9daaa7",
   "metadata": {},
   "outputs": [],
   "source": [
    "#LIST METHODS 4 AND 5: SORT AND REVERSE : sorts a list andreverse, works only for a list of uniform objects that are sortable"
   ]
  },
  {
   "cell_type": "code",
   "execution_count": 56,
   "id": "31d172c0",
   "metadata": {},
   "outputs": [],
   "source": [
    "r = [2,6,5,1,3,4]"
   ]
  },
  {
   "cell_type": "code",
   "execution_count": 57,
   "id": "7c758186",
   "metadata": {},
   "outputs": [],
   "source": [
    "r.sort()"
   ]
  },
  {
   "cell_type": "code",
   "execution_count": 58,
   "id": "366d3398",
   "metadata": {},
   "outputs": [
    {
     "data": {
      "text/plain": [
       "[1, 2, 3, 4, 5, 6]"
      ]
     },
     "execution_count": 58,
     "metadata": {},
     "output_type": "execute_result"
    }
   ],
   "source": [
    "r"
   ]
  },
  {
   "cell_type": "code",
   "execution_count": 59,
   "id": "eff313ab",
   "metadata": {},
   "outputs": [],
   "source": [
    "r.reverse()"
   ]
  },
  {
   "cell_type": "code",
   "execution_count": 60,
   "id": "e7bd7a17",
   "metadata": {},
   "outputs": [],
   "source": [
    "#OPERATOR : in. The operator in is used to test for membership in a list"
   ]
  },
  {
   "cell_type": "code",
   "execution_count": 61,
   "id": "c8c10869",
   "metadata": {},
   "outputs": [
    {
     "data": {
      "text/plain": [
       "False"
      ]
     },
     "execution_count": 61,
     "metadata": {},
     "output_type": "execute_result"
    }
   ],
   "source": [
    "9 in r"
   ]
  },
  {
   "cell_type": "code",
   "execution_count": 62,
   "id": "ebdfb672",
   "metadata": {},
   "outputs": [
    {
     "data": {
      "text/plain": [
       "False"
      ]
     },
     "execution_count": 62,
     "metadata": {},
     "output_type": "execute_result"
    }
   ],
   "source": [
    "'strawberries' in fruits"
   ]
  },
  {
   "cell_type": "code",
   "execution_count": null,
   "id": "7d13eec9",
   "metadata": {},
   "outputs": [],
   "source": [
    "#4. TUPLES: a fixed sequene of elements that is similar to a list. The key diference is that tuples are FIXED n length, and once created, cannot be changed."
   ]
  },
  {
   "cell_type": "code",
   "execution_count": null,
   "id": "1cd40d42",
   "metadata": {},
   "outputs": [],
   "source": [
    "#Tuples use parantheses. An empty tuple is just (). A tuple with just one element MUST HAVE A  COMMA"
   ]
  },
  {
   "cell_type": "code",
   "execution_count": null,
   "id": "17e09fd6",
   "metadata": {},
   "outputs": [],
   "source": [
    "#len function and index x[1] can work with tuples too"
   ]
  },
  {
   "cell_type": "code",
   "execution_count": 64,
   "id": "31546a51",
   "metadata": {},
   "outputs": [],
   "source": [
    "s = (1,2,3,4,5)"
   ]
  },
  {
   "cell_type": "code",
   "execution_count": 65,
   "id": "da891ed9",
   "metadata": {},
   "outputs": [
    {
     "data": {
      "text/plain": [
       "5"
      ]
     },
     "execution_count": 65,
     "metadata": {},
     "output_type": "execute_result"
    }
   ],
   "source": [
    "len(s)"
   ]
  },
  {
   "cell_type": "code",
   "execution_count": 66,
   "id": "001252b9",
   "metadata": {},
   "outputs": [
    {
     "data": {
      "text/plain": [
       "2"
      ]
     },
     "execution_count": 66,
     "metadata": {},
     "output_type": "execute_result"
    }
   ],
   "source": [
    "s[1]"
   ]
  },
  {
   "cell_type": "code",
   "execution_count": null,
   "id": "c2f1462f",
   "metadata": {},
   "outputs": [],
   "source": [
    "#the in operator works with tuples too"
   ]
  },
  {
   "cell_type": "code",
   "execution_count": 67,
   "id": "24092d56",
   "metadata": {},
   "outputs": [
    {
     "data": {
      "text/plain": [
       "False"
      ]
     },
     "execution_count": 67,
     "metadata": {},
     "output_type": "execute_result"
    }
   ],
   "source": [
    "0 in s"
   ]
  },
  {
   "cell_type": "code",
   "execution_count": 68,
   "id": "2dd9cf26",
   "metadata": {},
   "outputs": [],
   "source": [
    "#we can convert a tuple into a list"
   ]
  },
  {
   "cell_type": "code",
   "execution_count": 69,
   "id": "592eb7fb",
   "metadata": {},
   "outputs": [
    {
     "data": {
      "text/plain": [
       "tuple"
      ]
     },
     "execution_count": 69,
     "metadata": {},
     "output_type": "execute_result"
    }
   ],
   "source": [
    "type(s)"
   ]
  },
  {
   "cell_type": "code",
   "execution_count": 70,
   "id": "d9b62d7f",
   "metadata": {},
   "outputs": [
    {
     "data": {
      "text/plain": [
       "[1, 2, 3, 4, 5]"
      ]
     },
     "execution_count": 70,
     "metadata": {},
     "output_type": "execute_result"
    }
   ],
   "source": [
    "list(s)"
   ]
  },
  {
   "cell_type": "code",
   "execution_count": 71,
   "id": "16a1714e",
   "metadata": {},
   "outputs": [
    {
     "data": {
      "text/plain": [
       "tuple"
      ]
     },
     "execution_count": 71,
     "metadata": {},
     "output_type": "execute_result"
    }
   ],
   "source": [
    "type(s)"
   ]
  },
  {
   "cell_type": "code",
   "execution_count": 1,
   "id": "4618ce1b",
   "metadata": {},
   "outputs": [],
   "source": [
    "#5. DICTIONARIES: most useful data types for linguists, sets of pairs. We use square brackets. The first element is the key and the second element is the value\n",
    "#Keys have to be distinct. "
   ]
  },
  {
   "cell_type": "code",
   "execution_count": 2,
   "id": "2c047794",
   "metadata": {},
   "outputs": [],
   "source": [
    "#To look up values, you have to put the key in a square bracket"
   ]
  },
  {
   "cell_type": "code",
   "execution_count": 20,
   "id": "873558d7",
   "metadata": {},
   "outputs": [],
   "source": [
    "d = {'cat': 7, 'chair':'hat', 'table': 7}"
   ]
  },
  {
   "cell_type": "code",
   "execution_count": 21,
   "id": "ffa7e97f",
   "metadata": {},
   "outputs": [
    {
     "data": {
      "text/plain": [
       "7"
      ]
     },
     "execution_count": 21,
     "metadata": {},
     "output_type": "execute_result"
    }
   ],
   "source": [
    "d['cat']"
   ]
  },
  {
   "cell_type": "code",
   "execution_count": 8,
   "id": "75628322",
   "metadata": {},
   "outputs": [
    {
     "data": {
      "text/plain": [
       "3"
      ]
     },
     "execution_count": 8,
     "metadata": {},
     "output_type": "execute_result"
    }
   ],
   "source": [
    "#We can use the len () function\n",
    "len(d)"
   ]
  },
  {
   "cell_type": "code",
   "execution_count": null,
   "id": "44aea6b8",
   "metadata": {},
   "outputs": [],
   "source": [
    "#We can add a new pair like this: name of dictionar['key']: value"
   ]
  },
  {
   "cell_type": "code",
   "execution_count": 9,
   "id": "c4cce0c1",
   "metadata": {},
   "outputs": [],
   "source": [
    "d['dog'] = 1.2"
   ]
  },
  {
   "cell_type": "code",
   "execution_count": 10,
   "id": "f20aa69e",
   "metadata": {},
   "outputs": [
    {
     "data": {
      "text/plain": [
       "4"
      ]
     },
     "execution_count": 10,
     "metadata": {},
     "output_type": "execute_result"
    }
   ],
   "source": [
    "len(d)"
   ]
  },
  {
   "cell_type": "code",
   "execution_count": null,
   "id": "c599a946",
   "metadata": {},
   "outputs": [],
   "source": [
    "#We can use the in operator to test for membership in the dictionary keys"
   ]
  },
  {
   "cell_type": "code",
   "execution_count": 11,
   "id": "ba859dc0",
   "metadata": {},
   "outputs": [
    {
     "data": {
      "text/plain": [
       "True"
      ]
     },
     "execution_count": 11,
     "metadata": {},
     "output_type": "execute_result"
    }
   ],
   "source": [
    "'dog' in d"
   ]
  },
  {
   "cell_type": "code",
   "execution_count": 12,
   "id": "964a5ace",
   "metadata": {},
   "outputs": [
    {
     "data": {
      "text/plain": [
       "False"
      ]
     },
     "execution_count": 12,
     "metadata": {},
     "output_type": "execute_result"
    }
   ],
   "source": [
    "'aso' in d"
   ]
  },
  {
   "cell_type": "code",
   "execution_count": null,
   "id": "a21f588b",
   "metadata": {},
   "outputs": [],
   "source": [
    "#dictionary items can be altered or deleted"
   ]
  },
  {
   "cell_type": "code",
   "execution_count": 22,
   "id": "c14e45ec",
   "metadata": {},
   "outputs": [
    {
     "data": {
      "text/plain": [
       "{'cat': 7, 'chair': 'hat', 'table': 7}"
      ]
     },
     "execution_count": 22,
     "metadata": {},
     "output_type": "execute_result"
    }
   ],
   "source": [
    "d "
   ]
  },
  {
   "cell_type": "code",
   "execution_count": 23,
   "id": "929cc273",
   "metadata": {},
   "outputs": [],
   "source": [
    "d['cat'] = d['cat'] + 2"
   ]
  },
  {
   "cell_type": "code",
   "execution_count": 24,
   "id": "4ca6e9ef",
   "metadata": {},
   "outputs": [
    {
     "data": {
      "text/plain": [
       "9"
      ]
     },
     "execution_count": 24,
     "metadata": {},
     "output_type": "execute_result"
    }
   ],
   "source": [
    "d['cat']"
   ]
  },
  {
   "cell_type": "code",
   "execution_count": null,
   "id": "de00a13a",
   "metadata": {},
   "outputs": [],
   "source": [
    "#to delete a dictionary item, just put del(d['key'])"
   ]
  },
  {
   "cell_type": "code",
   "execution_count": 25,
   "id": "288658b7",
   "metadata": {},
   "outputs": [],
   "source": [
    "del(d['cat'])"
   ]
  },
  {
   "cell_type": "code",
   "execution_count": 26,
   "id": "fbb765cc",
   "metadata": {},
   "outputs": [
    {
     "data": {
      "text/plain": [
       "{'chair': 'hat', 'table': 7}"
      ]
     },
     "execution_count": 26,
     "metadata": {},
     "output_type": "execute_result"
    }
   ],
   "source": [
    "d"
   ]
  },
  {
   "cell_type": "code",
   "execution_count": null,
   "id": "c6b09ad1",
   "metadata": {},
   "outputs": [],
   "source": [
    "#to extract keys, values, or items from a dictionary, just put name of dictionary.keys or .values or .items(). You can convert to a list after"
   ]
  },
  {
   "cell_type": "code",
   "execution_count": 27,
   "id": "6ffae6d3",
   "metadata": {},
   "outputs": [
    {
     "data": {
      "text/plain": [
       "<function dict.keys>"
      ]
     },
     "execution_count": 27,
     "metadata": {},
     "output_type": "execute_result"
    }
   ],
   "source": [
    "d.keys"
   ]
  },
  {
   "cell_type": "code",
   "execution_count": 28,
   "id": "58250c03",
   "metadata": {},
   "outputs": [
    {
     "data": {
      "text/plain": [
       "['chair', 'table']"
      ]
     },
     "execution_count": 28,
     "metadata": {},
     "output_type": "execute_result"
    }
   ],
   "source": [
    "list(d.keys())"
   ]
  },
  {
   "cell_type": "code",
   "execution_count": 29,
   "id": "b5b45eaa",
   "metadata": {},
   "outputs": [
    {
     "data": {
      "text/plain": [
       "[('chair', 'hat'), ('table', 7)]"
      ]
     },
     "execution_count": 29,
     "metadata": {},
     "output_type": "execute_result"
    }
   ],
   "source": [
    "list(d.items())"
   ]
  },
  {
   "cell_type": "code",
   "execution_count": 30,
   "id": "406832b1",
   "metadata": {},
   "outputs": [
    {
     "data": {
      "text/plain": [
       "['hat', 7]"
      ]
     },
     "execution_count": 30,
     "metadata": {},
     "output_type": "execute_result"
    }
   ],
   "source": [
    "list(d.values())"
   ]
  },
  {
   "cell_type": "code",
   "execution_count": null,
   "id": "e25ead98",
   "metadata": {},
   "outputs": [],
   "source": [
    "#Dictionaries can be used directly with the string method format (). Basically, you can put the keys inside a slot {} and use **dictionaryname"
   ]
  },
  {
   "cell_type": "code",
   "execution_count": 39,
   "id": "5d61e9cd",
   "metadata": {},
   "outputs": [
    {
     "data": {
      "text/plain": [
       "{'chair': 'hat', 'table': 7}"
      ]
     },
     "execution_count": 39,
     "metadata": {},
     "output_type": "execute_result"
    }
   ],
   "source": [
    "d"
   ]
  },
  {
   "cell_type": "code",
   "execution_count": 40,
   "id": "baea5358",
   "metadata": {},
   "outputs": [],
   "source": [
    "f = 'summer = {chair} and ikea = {table}'"
   ]
  },
  {
   "cell_type": "code",
   "execution_count": 42,
   "id": "0489551a",
   "metadata": {},
   "outputs": [
    {
     "data": {
      "text/plain": [
       "'summer = hat and ikea = 7'"
      ]
     },
     "execution_count": 42,
     "metadata": {},
     "output_type": "execute_result"
    }
   ],
   "source": [
    "f.format(**d)"
   ]
  },
  {
   "cell_type": "code",
   "execution_count": null,
   "id": "8cb149a6",
   "metadata": {},
   "outputs": [],
   "source": [
    "#MUTABILITY: Some objects in python can be changes and others cannot. \n",
    "#Garbage Collection: when you don't use an element, Python detects this and removes the element, freeing up memory. This also happens when you change the value assigned to a variable."
   ]
  },
  {
   "cell_type": "code",
   "execution_count": null,
   "id": "09f86886",
   "metadata": {},
   "outputs": [],
   "source": [
    "#LISTS AND DICTIOANRIES ARE MUTABLE. STRINGS AND TUPLES ARE NOT."
   ]
  },
  {
   "cell_type": "code",
   "execution_count": null,
   "id": "52931c6a",
   "metadata": {},
   "outputs": [],
   "source": [
    "#CHAPTER 2 EXERCISES"
   ]
  },
  {
   "cell_type": "code",
   "execution_count": null,
   "id": "6475b478",
   "metadata": {},
   "outputs": [],
   "source": [
    "#2.1 What does this code do? isinstance(bool == bool,bool)\n",
    "#isinstance determines the type of an element. in this case, bool is a boool so they equate to each other. It will return True"
   ]
  },
  {
   "cell_type": "code",
   "execution_count": 43,
   "id": "db8f3b2d",
   "metadata": {},
   "outputs": [
    {
     "data": {
      "text/plain": [
       "True"
      ]
     },
     "execution_count": 43,
     "metadata": {},
     "output_type": "execute_result"
    }
   ],
   "source": [
    "isinstance(bool == bool,bool)"
   ]
  },
  {
   "cell_type": "code",
   "execution_count": null,
   "id": "1c873951",
   "metadata": {},
   "outputs": [],
   "source": [
    "#2.2 What does this code do a = 3 == 3? What is the result and why? \n",
    "#What's the  difference between that code snippet and this one: a ==3 3=3? (Note that the latter produces an error)"
   ]
  },
  {
   "cell_type": "code",
   "execution_count": 45,
   "id": "c6df51fa",
   "metadata": {},
   "outputs": [],
   "source": [
    "#Here, the integer 3 is assigned to the variable a which equates to 3\n",
    "g= 3 == 3"
   ]
  },
  {
   "cell_type": "code",
   "execution_count": 46,
   "id": "e5ad87f5",
   "metadata": {},
   "outputs": [
    {
     "ename": "SyntaxError",
     "evalue": "cannot assign to comparison (Temp/ipykernel_18176/1848374057.py, line 1)",
     "output_type": "error",
     "traceback": [
      "\u001b[1;36m  File \u001b[1;32m\"C:\\Users\\User\\AppData\\Local\\Temp/ipykernel_18176/1848374057.py\"\u001b[1;36m, line \u001b[1;32m1\u001b[0m\n\u001b[1;33m    a == 3 = 4\u001b[0m\n\u001b[1;37m    ^\u001b[0m\n\u001b[1;31mSyntaxError\u001b[0m\u001b[1;31m:\u001b[0m cannot assign to comparison\n"
     ]
    }
   ],
   "source": [
    "#Here, it produces an error because the variable a is not defined and you cannot assign a variable to a comparison\n",
    "g == 3 = 3"
   ]
  },
  {
   "cell_type": "code",
   "execution_count": null,
   "id": "10717b4d",
   "metadata": {},
   "outputs": [],
   "source": [
    "#2.3 Write three lines of code that: create a variable with the value 37; create another variable with the value 4, print out the result of multiplying those together."
   ]
  },
  {
   "cell_type": "code",
   "execution_count": null,
   "id": "4ddf9b65",
   "metadata": {},
   "outputs": [],
   "source": [
    "h = 37"
   ]
  },
  {
   "cell_type": "code",
   "execution_count": null,
   "id": "a5345292",
   "metadata": {},
   "outputs": [],
   "source": [
    "i = 4"
   ]
  },
  {
   "cell_type": "code",
   "execution_count": 47,
   "id": "98d90668",
   "metadata": {},
   "outputs": [
    {
     "name": "stdout",
     "output_type": "stream",
     "text": [
      "148\n"
     ]
    }
   ],
   "source": [
    "print (37 * 4)"
   ]
  },
  {
   "cell_type": "code",
   "execution_count": null,
   "id": "9d62b688",
   "metadata": {},
   "outputs": [],
   "source": [
    "#2.4 Write three lines of code that create a string 'transformational', create a string 'grammar', concatenat those together and print the result (Make sure there is a space between the two words)"
   ]
  },
  {
   "cell_type": "code",
   "execution_count": 48,
   "id": "5d4cea44",
   "metadata": {},
   "outputs": [],
   "source": [
    "j = 'transformational'"
   ]
  },
  {
   "cell_type": "code",
   "execution_count": 50,
   "id": "bb01f32e",
   "metadata": {},
   "outputs": [],
   "source": [
    "k = ' grammar'"
   ]
  },
  {
   "cell_type": "code",
   "execution_count": 51,
   "id": "def46657",
   "metadata": {},
   "outputs": [
    {
     "data": {
      "text/plain": [
       "'transformational grammar'"
      ]
     },
     "execution_count": 51,
     "metadata": {},
     "output_type": "execute_result"
    }
   ],
   "source": [
    "j + k"
   ]
  },
  {
   "cell_type": "code",
   "execution_count": null,
   "id": "303f5abe",
   "metadata": {},
   "outputs": [],
   "source": [
    "#2.5 Explain what the following bit of code does and why it's a bad idea: yes = 'no' no = 'yes'"
   ]
  },
  {
   "cell_type": "code",
   "execution_count": 53,
   "id": "e1e98fd5",
   "metadata": {},
   "outputs": [],
   "source": [
    "yes = 'no'"
   ]
  },
  {
   "cell_type": "code",
   "execution_count": 54,
   "id": "80322830",
   "metadata": {},
   "outputs": [],
   "source": [
    "no = 'yes'"
   ]
  },
  {
   "cell_type": "code",
   "execution_count": null,
   "id": "97ae4403",
   "metadata": {},
   "outputs": [],
   "source": [
    "#It is a bad idea because you can confuse the string with the variable. It is important to give variables a name that reminds us of what kind of value we are storing in the variable, not the opposite"
   ]
  },
  {
   "cell_type": "code",
   "execution_count": null,
   "id": "61e81a44",
   "metadata": {},
   "outputs": [],
   "source": [
    "#2.6 Write a single line of code that tests whether 7^3 is greater than 15 x 16."
   ]
  },
  {
   "cell_type": "code",
   "execution_count": 55,
   "id": "a83c531b",
   "metadata": {},
   "outputs": [
    {
     "data": {
      "text/plain": [
       "True"
      ]
     },
     "execution_count": 55,
     "metadata": {},
     "output_type": "execute_result"
    }
   ],
   "source": [
    "7**3 > 15 * 16"
   ]
  },
  {
   "cell_type": "code",
   "execution_count": 56,
   "id": "4f1d773d",
   "metadata": {},
   "outputs": [],
   "source": [
    "#2.7 Explain what's going on below: is m mutable?"
   ]
  },
  {
   "cell_type": "code",
   "execution_count": 61,
   "id": "59cbc0e4",
   "metadata": {},
   "outputs": [],
   "source": [
    "m = 'abc'"
   ]
  },
  {
   "cell_type": "code",
   "execution_count": 62,
   "id": "f2c2e286",
   "metadata": {},
   "outputs": [],
   "source": [
    "m = m.upper ()"
   ]
  },
  {
   "cell_type": "code",
   "execution_count": 63,
   "id": "0c586dfc",
   "metadata": {},
   "outputs": [
    {
     "data": {
      "text/plain": [
       "'ABC'"
      ]
     },
     "execution_count": 63,
     "metadata": {},
     "output_type": "execute_result"
    }
   ],
   "source": [
    "m"
   ]
  },
  {
   "cell_type": "code",
   "execution_count": null,
   "id": "4f2fbc35",
   "metadata": {},
   "outputs": [],
   "source": [
    "#x is not mutable because x is a string"
   ]
  },
  {
   "cell_type": "code",
   "execution_count": null,
   "id": "0dd6f2a4",
   "metadata": {},
   "outputs": [],
   "source": [
    "#2.8 Semitic morphology involves intercalating vowels and consonants to exprss morphological categories. For example, the Arabic root k,t,b. \n",
    "#How might you use format () to describe this system? Give a sample respresntation for the root k,t,b and show how format () could be used to express different categories."
   ]
  },
  {
   "cell_type": "code",
   "execution_count": 100,
   "id": "ad3a05be",
   "metadata": {},
   "outputs": [],
   "source": [
    "arabic_root_write = '{}k{}t{}b{}'"
   ]
  },
  {
   "cell_type": "code",
   "execution_count": 101,
   "id": "a001cd8b",
   "metadata": {},
   "outputs": [],
   "source": [
    "verb_activepast_3sg= arabic_root_write.format('','a','a','-a')"
   ]
  },
  {
   "cell_type": "code",
   "execution_count": 102,
   "id": "30d51e30",
   "metadata": {},
   "outputs": [
    {
     "data": {
      "text/plain": [
       "'katab-a'"
      ]
     },
     "execution_count": 102,
     "metadata": {},
     "output_type": "execute_result"
    }
   ],
   "source": [
    "verb_activepast_3sg \n",
    "# the gloss is 'he wrote'"
   ]
  },
  {
   "cell_type": "code",
   "execution_count": 103,
   "id": "c94c6691",
   "metadata": {},
   "outputs": [],
   "source": [
    "verb_passivepast = arabic_root_write.format('','u','i','-a')"
   ]
  },
  {
   "cell_type": "code",
   "execution_count": 104,
   "id": "0ae007d9",
   "metadata": {},
   "outputs": [
    {
     "data": {
      "text/plain": [
       "'kutib-a'"
      ]
     },
     "execution_count": 104,
     "metadata": {},
     "output_type": "execute_result"
    }
   ],
   "source": [
    "verb_passivepast\n",
    "#The gloss is 'it was written'"
   ]
  },
  {
   "cell_type": "code",
   "execution_count": 105,
   "id": "81ffe97f",
   "metadata": {},
   "outputs": [],
   "source": [
    "noun_sg = arabic_root_write.format('','i','a','')"
   ]
  },
  {
   "cell_type": "code",
   "execution_count": 106,
   "id": "2943c089",
   "metadata": {},
   "outputs": [
    {
     "data": {
      "text/plain": [
       "'kitab'"
      ]
     },
     "execution_count": 106,
     "metadata": {},
     "output_type": "execute_result"
    }
   ],
   "source": [
    "noun_sg\n",
    "#The gloss is 'book'"
   ]
  },
  {
   "cell_type": "code",
   "execution_count": 107,
   "id": "e6768bc2",
   "metadata": {},
   "outputs": [],
   "source": [
    "verb_command = arabic_root_write.format('u','','u','')"
   ]
  },
  {
   "cell_type": "code",
   "execution_count": 109,
   "id": "a705d816",
   "metadata": {},
   "outputs": [
    {
     "data": {
      "text/plain": [
       "'uktub'"
      ]
     },
     "execution_count": 109,
     "metadata": {},
     "output_type": "execute_result"
    }
   ],
   "source": [
    "verb_command\n",
    "#The gloss is 'write!'"
   ]
  },
  {
   "cell_type": "code",
   "execution_count": 110,
   "id": "ea557260",
   "metadata": {},
   "outputs": [
    {
     "data": {
      "text/plain": [
       "'{}k{}t{}b{}'"
      ]
     },
     "execution_count": 110,
     "metadata": {},
     "output_type": "execute_result"
    }
   ],
   "source": [
    "arabic_root_write"
   ]
  },
  {
   "cell_type": "code",
   "execution_count": 111,
   "id": "f451c6f9",
   "metadata": {},
   "outputs": [],
   "source": [
    "nominal_adjective = arabic_root_write.format('','ut','aa','')\n",
    "#The gloss is 'writers'. 't' experienced gemination"
   ]
  },
  {
   "cell_type": "code",
   "execution_count": 112,
   "id": "3d2e3fb9",
   "metadata": {},
   "outputs": [
    {
     "data": {
      "text/plain": [
       "'kuttaab'"
      ]
     },
     "execution_count": 112,
     "metadata": {},
     "output_type": "execute_result"
    }
   ],
   "source": [
    "nominal_adjective"
   ]
  },
  {
   "cell_type": "code",
   "execution_count": null,
   "id": "4f357ef4",
   "metadata": {},
   "outputs": [],
   "source": [
    "#2.9 You can use format to treat vowel harmony. Choose a simple vowel harmony systems and show how this might work."
   ]
  },
  {
   "cell_type": "code",
   "execution_count": null,
   "id": "10c0fb4c",
   "metadata": {},
   "outputs": [],
   "source": [
    "#According to the vowel harmony rule in Turkish, words cannot contain both front and round vowels. In addition, if a vowel is rounded, the following vowel is rounded as well."
   ]
  },
  {
   "cell_type": "code",
   "execution_count": 135,
   "id": "00d0e016",
   "metadata": {},
   "outputs": [],
   "source": [
    "turkish_front_vowels = ['e','i','ö','ü']"
   ]
  },
  {
   "cell_type": "code",
   "execution_count": 114,
   "id": "e7e1de5d",
   "metadata": {},
   "outputs": [],
   "source": [
    "turkish_back_vowels = ['a', 'ı', 'o', 'u']"
   ]
  },
  {
   "cell_type": "code",
   "execution_count": 115,
   "id": "cde7a55e",
   "metadata": {},
   "outputs": [],
   "source": [
    "turkish_rounded_vowels = ['o', 'ö', 'u', 'ü']"
   ]
  },
  {
   "cell_type": "code",
   "execution_count": 116,
   "id": "7c09f976",
   "metadata": {},
   "outputs": [],
   "source": [
    "turkish_unrounded_vowels = ['a', 'e', 'ı','i']"
   ]
  },
  {
   "cell_type": "code",
   "execution_count": null,
   "id": "c901f46e",
   "metadata": {},
   "outputs": [],
   "source": [
    "#Turkish has two types of vowel harmony. One of these types is the 2-way vowel harmony or a-type or e-type vowel harmony"
   ]
  },
  {
   "cell_type": "code",
   "execution_count": null,
   "id": "ed244ef7",
   "metadata": {},
   "outputs": [],
   "source": [
    "#a-type: If one of the syllable has a back vowel, the preceding vowel has to be 'a'"
   ]
  },
  {
   "cell_type": "code",
   "execution_count": null,
   "id": "232574d3",
   "metadata": {},
   "outputs": [],
   "source": [
    "#e-type: If one of the syllable has a front vowel, the suffix has to have 'e'"
   ]
  },
  {
   "cell_type": "code",
   "execution_count": null,
   "id": "df3aa631",
   "metadata": {},
   "outputs": [],
   "source": [
    "#If there is a back vowel in the verb stem, the suffix must have 'a'\n",
    "#If there is a front vowel in the verb stem, suffix must have 'e'"
   ]
  },
  {
   "cell_type": "code",
   "execution_count": 117,
   "id": "0da4db8c",
   "metadata": {},
   "outputs": [],
   "source": [
    "etype_plural_suffix = 'ler'"
   ]
  },
  {
   "cell_type": "code",
   "execution_count": 118,
   "id": "519ccdf9",
   "metadata": {},
   "outputs": [],
   "source": [
    "atype_plural_suffix = 'lar'"
   ]
  },
  {
   "cell_type": "code",
   "execution_count": 137,
   "id": "670d9f5f",
   "metadata": {},
   "outputs": [],
   "source": [
    "string_bottle = 'sise{}'"
   ]
  },
  {
   "cell_type": "code",
   "execution_count": null,
   "id": "264135fa",
   "metadata": {},
   "outputs": [],
   "source": [
    "#In order to check if there is an element of a list in a string,\n",
    "#We use if any (ext in string for ext in list): print()"
   ]
  },
  {
   "cell_type": "code",
   "execution_count": 140,
   "id": "babe25f8",
   "metadata": {},
   "outputs": [
    {
     "name": "stdout",
     "output_type": "stream",
     "text": [
      "siseler\n"
     ]
    }
   ],
   "source": [
    "if any(ext in string_bottle for ext in turkish_front_vowels):\n",
    "    print(string_bottle.format(etype_plural_suffix))\n",
    "#siseler's gloss is 'bottles'"
   ]
  },
  {
   "cell_type": "code",
   "execution_count": 142,
   "id": "e35c34b3",
   "metadata": {},
   "outputs": [],
   "source": [
    "string_door = 'kapi{}'"
   ]
  },
  {
   "cell_type": "code",
   "execution_count": 144,
   "id": "5f215704",
   "metadata": {},
   "outputs": [
    {
     "name": "stdout",
     "output_type": "stream",
     "text": [
      "kapilar\n"
     ]
    }
   ],
   "source": [
    "if any(ext in string_door for ext in turkish_back_vowels):\n",
    "    print(string_door.format(atype_plural_suffix))"
   ]
  },
  {
   "cell_type": "code",
   "execution_count": null,
   "id": "4b417b9b",
   "metadata": {},
   "outputs": [],
   "source": [
    "#2.10 You can use the dictionary data type in conjuction with the format () command to do translations between two languages\n",
    "#Choose two languages, construct a small dictionary for them, then create some strings with which you can use your dictionary to do translations"
   ]
  },
  {
   "cell_type": "code",
   "execution_count": 153,
   "id": "0e136319",
   "metadata": {},
   "outputs": [],
   "source": [
    "tagalog_numbers = {'lets count':'magbilang tayo', 'one':'isa', 'two':'dalawa', 'three':'tatlo', 'four':'apat', 'five':'lima', 'six': 'anim', 'seven': 'pito', 'eight': 'walo', 'nine':'syam', 'ten':'sampu'}"
   ]
  },
  {
   "cell_type": "code",
   "execution_count": 152,
   "id": "c395d7bc",
   "metadata": {},
   "outputs": [],
   "source": [
    "korean_numbers = {'lets count':'세자','one':'하나', 'two':'둘', 'three':'셋', 'four':'넷', 'five':'다섯', 'six':'여섯', 'seven':'일곱', 'eight':'여덟', 'nine':'아홉', 'ten':'열'}"
   ]
  },
  {
   "cell_type": "code",
   "execution_count": 154,
   "id": "9eea25c2",
   "metadata": {},
   "outputs": [],
   "source": [
    "string_1 = '{lets count}! {one}, {two}, {three}, {four}, {five}'"
   ]
  },
  {
   "cell_type": "code",
   "execution_count": 155,
   "id": "c2e1e51e",
   "metadata": {},
   "outputs": [
    {
     "data": {
      "text/plain": [
       "'magbilang tayo! isa, dalawa, tatlo, apat, lima'"
      ]
     },
     "execution_count": 155,
     "metadata": {},
     "output_type": "execute_result"
    }
   ],
   "source": [
    "string_1.format(**tagalog_numbers)"
   ]
  },
  {
   "cell_type": "code",
   "execution_count": 157,
   "id": "91bbc66e",
   "metadata": {},
   "outputs": [
    {
     "data": {
      "text/plain": [
       "'세자! 하나, 둘, 셋, 넷, 다섯'"
      ]
     },
     "execution_count": 157,
     "metadata": {},
     "output_type": "execute_result"
    }
   ],
   "source": [
    "string_1.format(**korean_numbers)"
   ]
  },
  {
   "cell_type": "code",
   "execution_count": 182,
   "id": "3daadbcd",
   "metadata": {},
   "outputs": [],
   "source": [
    "tagalog_animals = {'A mi me gusta':'mahilig ako sa', 'los':'mga', 'gatos':'pusa', 'perros':'aso', 'vacas':'baka', 'monos':'unggoy'}"
   ]
  },
  {
   "cell_type": "code",
   "execution_count": 186,
   "id": "91a537d4",
   "metadata": {},
   "outputs": [],
   "source": [
    "spanish_animals = {'Mahilig ako sa':'a mi me gusta','mga':'los', 'pusa':'gatos', 'aso':'perros', 'baka':'vacas', 'unggoy':'monos'}"
   ]
  },
  {
   "cell_type": "code",
   "execution_count": 187,
   "id": "1d61b41c",
   "metadata": {},
   "outputs": [],
   "source": [
    "spanish_string = '{A mi me gusta} {los} {gatos}!'\n",
    "#'I like cats!'"
   ]
  },
  {
   "cell_type": "code",
   "execution_count": 188,
   "id": "37a017df",
   "metadata": {},
   "outputs": [
    {
     "data": {
      "text/plain": [
       "'mahilig ako sa mga pusa!'"
      ]
     },
     "execution_count": 188,
     "metadata": {},
     "output_type": "execute_result"
    }
   ],
   "source": [
    "spanish_string.format(**tagalog_animals)"
   ]
  },
  {
   "cell_type": "code",
   "execution_count": 189,
   "id": "f13677ec",
   "metadata": {},
   "outputs": [],
   "source": [
    "tagalog_string = '{Mahilig ako sa} {mga} {unggoy}!'\n",
    "#'I like monkeys!'"
   ]
  },
  {
   "cell_type": "code",
   "execution_count": 190,
   "id": "dee41f68",
   "metadata": {},
   "outputs": [
    {
     "data": {
      "text/plain": [
       "'a mi me gusta los monos!'"
      ]
     },
     "execution_count": 190,
     "metadata": {},
     "output_type": "execute_result"
    }
   ],
   "source": [
    "tagalog_string.format(**spanish_animals)"
   ]
  },
  {
   "cell_type": "code",
   "execution_count": null,
   "id": "e2169c11",
   "metadata": {},
   "outputs": [],
   "source": [
    "#2.11 Lists and strings are similar in many ways. Describe and show with code three ways in which they are not alike."
   ]
  },
  {
   "cell_type": "code",
   "execution_count": null,
   "id": "24c9d585",
   "metadata": {},
   "outputs": [],
   "source": [
    "#a.Lists are mutable while strings are immutable. We cannot permanently edit a string."
   ]
  },
  {
   "cell_type": "code",
   "execution_count": 209,
   "id": "cc07c51b",
   "metadata": {},
   "outputs": [],
   "source": [
    "string_example = 'a, e, i, o, u'"
   ]
  },
  {
   "cell_type": "code",
   "execution_count": 210,
   "id": "5ec8e981",
   "metadata": {},
   "outputs": [
    {
     "data": {
      "text/plain": [
       "'A, E, I, O, U'"
      ]
     },
     "execution_count": 210,
     "metadata": {},
     "output_type": "execute_result"
    }
   ],
   "source": [
    "string_example.upper()"
   ]
  },
  {
   "cell_type": "code",
   "execution_count": 211,
   "id": "142e98ae",
   "metadata": {},
   "outputs": [
    {
     "data": {
      "text/plain": [
       "'a, e, i, o, u'"
      ]
     },
     "execution_count": 211,
     "metadata": {},
     "output_type": "execute_result"
    }
   ],
   "source": [
    "string_example"
   ]
  },
  {
   "cell_type": "code",
   "execution_count": 213,
   "id": "486721da",
   "metadata": {},
   "outputs": [],
   "source": [
    "list_example = ['a','e','i','o','u']"
   ]
  },
  {
   "cell_type": "code",
   "execution_count": 215,
   "id": "35ba9a36",
   "metadata": {},
   "outputs": [
    {
     "data": {
      "text/plain": [
       "'a'"
      ]
     },
     "execution_count": 215,
     "metadata": {},
     "output_type": "execute_result"
    }
   ],
   "source": [
    "list_example.pop(0)"
   ]
  },
  {
   "cell_type": "code",
   "execution_count": 216,
   "id": "b348c58e",
   "metadata": {},
   "outputs": [
    {
     "data": {
      "text/plain": [
       "['e', 'i', 'o', 'u']"
      ]
     },
     "execution_count": 216,
     "metadata": {},
     "output_type": "execute_result"
    }
   ],
   "source": [
    "list_example"
   ]
  },
  {
   "cell_type": "code",
   "execution_count": null,
   "id": "4a570ad3",
   "metadata": {},
   "outputs": [],
   "source": [
    "#b. In order to add something to a string, we have to use the + operator to concatenate two strings. In order to add something to a list, we use append()"
   ]
  },
  {
   "cell_type": "code",
   "execution_count": null,
   "id": "e14f7ec0",
   "metadata": {},
   "outputs": [],
   "source": [
    "#I will try adding a ! to both the list and the string examples"
   ]
  },
  {
   "cell_type": "code",
   "execution_count": 226,
   "id": "1bd943e9",
   "metadata": {},
   "outputs": [],
   "source": [
    "list_example.append('!')"
   ]
  },
  {
   "cell_type": "code",
   "execution_count": 227,
   "id": "b4be0a11",
   "metadata": {},
   "outputs": [
    {
     "data": {
      "text/plain": [
       "['e', 'i', 'o', 'u', '!']"
      ]
     },
     "execution_count": 227,
     "metadata": {},
     "output_type": "execute_result"
    }
   ],
   "source": [
    "list_example"
   ]
  },
  {
   "cell_type": "code",
   "execution_count": null,
   "id": "64f3c847",
   "metadata": {},
   "outputs": [],
   "source": [
    "#If I want to add the ! in a specific position, I have to use insert()"
   ]
  },
  {
   "cell_type": "code",
   "execution_count": 228,
   "id": "65613427",
   "metadata": {},
   "outputs": [],
   "source": [
    "list_example.insert(1,'!')"
   ]
  },
  {
   "cell_type": "code",
   "execution_count": 229,
   "id": "7617a9ef",
   "metadata": {},
   "outputs": [
    {
     "data": {
      "text/plain": [
       "['e', '!', 'i', 'o', 'u', '!']"
      ]
     },
     "execution_count": 229,
     "metadata": {},
     "output_type": "execute_result"
    }
   ],
   "source": [
    "list_example"
   ]
  },
  {
   "cell_type": "code",
   "execution_count": 241,
   "id": "1a95d50b",
   "metadata": {},
   "outputs": [],
   "source": [
    "#We can also replace an element in the list using this way:\n",
    "list_example[0] = 'a'\n",
    "#I will replace 'e' with 'a'. We cannot use this list_name[position] = 'replacement' to strings. It will return an error."
   ]
  },
  {
   "cell_type": "code",
   "execution_count": 240,
   "id": "16b53b5f",
   "metadata": {},
   "outputs": [
    {
     "data": {
      "text/plain": [
       "['a', '!', 'i', 'o', 'u', '!']"
      ]
     },
     "execution_count": 240,
     "metadata": {},
     "output_type": "execute_result"
    }
   ],
   "source": [
    "list_example"
   ]
  },
  {
   "cell_type": "code",
   "execution_count": 242,
   "id": "80b2d8e2",
   "metadata": {},
   "outputs": [
    {
     "ename": "TypeError",
     "evalue": "'str' object does not support item assignment",
     "output_type": "error",
     "traceback": [
      "\u001b[1;31m---------------------------------------------------------------------------\u001b[0m",
      "\u001b[1;31mTypeError\u001b[0m                                 Traceback (most recent call last)",
      "\u001b[1;32m~\\AppData\\Local\\Temp/ipykernel_18176/4005183573.py\u001b[0m in \u001b[0;36m<module>\u001b[1;34m\u001b[0m\n\u001b[1;32m----> 1\u001b[1;33m \u001b[0mstring_example\u001b[0m\u001b[1;33m[\u001b[0m\u001b[1;36m0\u001b[0m\u001b[1;33m]\u001b[0m \u001b[1;33m=\u001b[0m \u001b[1;34m'z'\u001b[0m\u001b[1;33m\u001b[0m\u001b[1;33m\u001b[0m\u001b[0m\n\u001b[0m",
      "\u001b[1;31mTypeError\u001b[0m: 'str' object does not support item assignment"
     ]
    }
   ],
   "source": [
    "string_example[0] = 'z'"
   ]
  },
  {
   "cell_type": "code",
   "execution_count": null,
   "id": "1d7fe632",
   "metadata": {},
   "outputs": [],
   "source": [
    "#Now, for the string, we have to use the + operator. However, we have to remember that strings are immutable. "
   ]
  },
  {
   "cell_type": "code",
   "execution_count": 232,
   "id": "944a6b4c",
   "metadata": {},
   "outputs": [
    {
     "data": {
      "text/plain": [
       "'a, e, i, o, u!'"
      ]
     },
     "execution_count": 232,
     "metadata": {},
     "output_type": "execute_result"
    }
   ],
   "source": [
    "string_example + '!'\n",
    "#Therefore, the change will only reflect in this specific line of code with concatenation."
   ]
  },
  {
   "cell_type": "code",
   "execution_count": 231,
   "id": "b0ad0dfe",
   "metadata": {},
   "outputs": [
    {
     "data": {
      "text/plain": [
       "'a, e, i, o, u'"
      ]
     },
     "execution_count": 231,
     "metadata": {},
     "output_type": "execute_result"
    }
   ],
   "source": [
    "string_example"
   ]
  },
  {
   "cell_type": "code",
   "execution_count": null,
   "id": "0f7d5ab6",
   "metadata": {},
   "outputs": [],
   "source": [
    "#c. Lists can have many types of data while strings can only have characters"
   ]
  },
  {
   "cell_type": "code",
   "execution_count": 233,
   "id": "d5ba0952",
   "metadata": {},
   "outputs": [],
   "source": [
    "list_example_3 = [1, 1.2, 'taylor swift', 4 + 3j]"
   ]
  },
  {
   "cell_type": "code",
   "execution_count": 238,
   "id": "80aac879",
   "metadata": {},
   "outputs": [],
   "source": [
    "string_example_2 = '1, 1.2,taylorswift, 4 + 3j'\n",
    "#Although the list and the string above may seem like they have the same arguments or objects, they don't. The list has many data types while the string only has string characters. When I used the '', the integer, float, character, and complex number became a string. I had to remove the '' for taylor swift too because i can't put a string within a string."
   ]
  },
  {
   "cell_type": "code",
   "execution_count": 218,
   "id": "a0e4576f",
   "metadata": {},
   "outputs": [],
   "source": [
    "#Side note: We can make a string into a list and a list into a string. However, a list can contain other types but a string can only contain characters. "
   ]
  },
  {
   "cell_type": "code",
   "execution_count": 219,
   "id": "e0a89213",
   "metadata": {},
   "outputs": [
    {
     "data": {
      "text/plain": [
       "['a', ',', ' ', 'e', ',', ' ', 'i', ',', ' ', 'o', ',', ' ', 'u']"
      ]
     },
     "execution_count": 219,
     "metadata": {},
     "output_type": "execute_result"
    }
   ],
   "source": [
    "list(string_example)"
   ]
  },
  {
   "cell_type": "code",
   "execution_count": 222,
   "id": "4f4d4b1b",
   "metadata": {},
   "outputs": [
    {
     "data": {
      "text/plain": [
       "\"['e', 'i', 'o', 'u']\""
      ]
     },
     "execution_count": 222,
     "metadata": {},
     "output_type": "execute_result"
    }
   ],
   "source": [
    "str(list_example)"
   ]
  },
  {
   "cell_type": "code",
   "execution_count": null,
   "id": "8561a04f",
   "metadata": {},
   "outputs": [],
   "source": [
    "#2.12 Snoop around on the web and figure out how the set data type works. Explain and exemplify."
   ]
  },
  {
   "cell_type": "code",
   "execution_count": null,
   "id": "3241ee04",
   "metadata": {},
   "outputs": [],
   "source": [
    "#Sets are data types that are represented by {}. The dictionary uses {} too but sets don't have both keys and values separated by a :. It only has values separated by a ,"
   ]
  },
  {
   "cell_type": "code",
   "execution_count": 245,
   "id": "d8d0cd84",
   "metadata": {},
   "outputs": [],
   "source": [
    "#It can have different data types inside\n",
    "set_example = {'brocoli',1, 'celery', 1.5}"
   ]
  },
  {
   "cell_type": "code",
   "execution_count": 246,
   "id": "5b486a11",
   "metadata": {},
   "outputs": [
    {
     "data": {
      "text/plain": [
       "set"
      ]
     },
     "execution_count": 246,
     "metadata": {},
     "output_type": "execute_result"
    }
   ],
   "source": [
    "type(set_example)"
   ]
  },
  {
   "cell_type": "code",
   "execution_count": null,
   "id": "cae8e825",
   "metadata": {},
   "outputs": [],
   "source": [
    "#Set items are unordered, unchangeable, and do not allow duplicate values."
   ]
  },
  {
   "cell_type": "code",
   "execution_count": null,
   "id": "36b665e3",
   "metadata": {},
   "outputs": [],
   "source": [
    "#Unordered: Items inside a set can appear in a different order every time you use them, and cannot be referred to by index or key."
   ]
  },
  {
   "cell_type": "code",
   "execution_count": 249,
   "id": "2c820ac6",
   "metadata": {},
   "outputs": [
    {
     "ename": "TypeError",
     "evalue": "'set' object is not subscriptable",
     "output_type": "error",
     "traceback": [
      "\u001b[1;31m---------------------------------------------------------------------------\u001b[0m",
      "\u001b[1;31mTypeError\u001b[0m                                 Traceback (most recent call last)",
      "\u001b[1;32m~\\AppData\\Local\\Temp/ipykernel_18176/2148291614.py\u001b[0m in \u001b[0;36m<module>\u001b[1;34m\u001b[0m\n\u001b[1;32m----> 1\u001b[1;33m \u001b[0mset_example\u001b[0m\u001b[1;33m[\u001b[0m\u001b[1;36m0\u001b[0m\u001b[1;33m]\u001b[0m\u001b[1;33m\u001b[0m\u001b[1;33m\u001b[0m\u001b[0m\n\u001b[0m",
      "\u001b[1;31mTypeError\u001b[0m: 'set' object is not subscriptable"
     ]
    }
   ],
   "source": [
    "set_example[0]"
   ]
  },
  {
   "cell_type": "code",
   "execution_count": 250,
   "id": "24845086",
   "metadata": {},
   "outputs": [
    {
     "ename": "AttributeError",
     "evalue": "'set' object has no attribute 'sort'",
     "output_type": "error",
     "traceback": [
      "\u001b[1;31m---------------------------------------------------------------------------\u001b[0m",
      "\u001b[1;31mAttributeError\u001b[0m                            Traceback (most recent call last)",
      "\u001b[1;32m~\\AppData\\Local\\Temp/ipykernel_18176/3918206495.py\u001b[0m in \u001b[0;36m<module>\u001b[1;34m\u001b[0m\n\u001b[1;32m----> 1\u001b[1;33m \u001b[0mset_example\u001b[0m\u001b[1;33m.\u001b[0m\u001b[0msort\u001b[0m\u001b[1;33m(\u001b[0m\u001b[1;33m)\u001b[0m\u001b[1;33m\u001b[0m\u001b[1;33m\u001b[0m\u001b[0m\n\u001b[0m",
      "\u001b[1;31mAttributeError\u001b[0m: 'set' object has no attribute 'sort'"
     ]
    }
   ],
   "source": [
    "set_example.sort()"
   ]
  },
  {
   "cell_type": "code",
   "execution_count": null,
   "id": "0daa1f36",
   "metadata": {},
   "outputs": [],
   "source": [
    "#Duplicated elements are ignored. You can't have duplicates inside."
   ]
  },
  {
   "cell_type": "code",
   "execution_count": 247,
   "id": "a169543a",
   "metadata": {},
   "outputs": [],
   "source": [
    "set_example = {'strawberries', 'bananas', 'grapes', 'bananas'}"
   ]
  },
  {
   "cell_type": "code",
   "execution_count": 248,
   "id": "e35b27aa",
   "metadata": {},
   "outputs": [
    {
     "data": {
      "text/plain": [
       "{'bananas', 'grapes', 'strawberries'}"
      ]
     },
     "execution_count": 248,
     "metadata": {},
     "output_type": "execute_result"
    }
   ],
   "source": [
    "set_example"
   ]
  },
  {
   "cell_type": "code",
   "execution_count": null,
   "id": "787ad929",
   "metadata": {},
   "outputs": [],
   "source": [
    "#Unchangeable: we cannot change the items after the set has been created."
   ]
  },
  {
   "cell_type": "code",
   "execution_count": 251,
   "id": "a654bc3f",
   "metadata": {},
   "outputs": [
    {
     "ename": "AttributeError",
     "evalue": "'set' object has no attribute 'append'",
     "output_type": "error",
     "traceback": [
      "\u001b[1;31m---------------------------------------------------------------------------\u001b[0m",
      "\u001b[1;31mAttributeError\u001b[0m                            Traceback (most recent call last)",
      "\u001b[1;32m~\\AppData\\Local\\Temp/ipykernel_18176/1434687010.py\u001b[0m in \u001b[0;36m<module>\u001b[1;34m\u001b[0m\n\u001b[1;32m----> 1\u001b[1;33m \u001b[0mset_example\u001b[0m\u001b[1;33m.\u001b[0m\u001b[0mappend\u001b[0m\u001b[1;33m(\u001b[0m\u001b[1;34m'apples'\u001b[0m\u001b[1;33m)\u001b[0m\u001b[1;33m\u001b[0m\u001b[1;33m\u001b[0m\u001b[0m\n\u001b[0m",
      "\u001b[1;31mAttributeError\u001b[0m: 'set' object has no attribute 'append'"
     ]
    }
   ],
   "source": [
    "set_example.append('apples')"
   ]
  },
  {
   "cell_type": "code",
   "execution_count": null,
   "id": "cebdb9cc",
   "metadata": {},
   "outputs": [],
   "source": [
    "#We can use len() to know how many members in a set"
   ]
  },
  {
   "cell_type": "code",
   "execution_count": 252,
   "id": "9ebc5f34",
   "metadata": {},
   "outputs": [
    {
     "data": {
      "text/plain": [
       "3"
      ]
     },
     "execution_count": 252,
     "metadata": {},
     "output_type": "execute_result"
    }
   ],
   "source": [
    "len(set_example)"
   ]
  }
 ],
 "metadata": {
  "kernelspec": {
   "display_name": "Python 3 (ipykernel)",
   "language": "python",
   "name": "python3"
  },
  "language_info": {
   "codemirror_mode": {
    "name": "ipython",
    "version": 3
   },
   "file_extension": ".py",
   "mimetype": "text/x-python",
   "name": "python",
   "nbconvert_exporter": "python",
   "pygments_lexer": "ipython3",
   "version": "3.9.7"
  }
 },
 "nbformat": 4,
 "nbformat_minor": 5
}
